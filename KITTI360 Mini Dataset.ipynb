{
 "cells": [
  {
   "cell_type": "code",
   "execution_count": 1,
   "metadata": {},
   "outputs": [
    {
     "ename": "ModuleNotFoundError",
     "evalue": "No module named 'open3d'",
     "output_type": "error",
     "traceback": [
      "\u001b[0;31m---------------------------------------------------------------------------\u001b[0m",
      "\u001b[0;31mModuleNotFoundError\u001b[0m                       Traceback (most recent call last)",
      "\u001b[0;32m<ipython-input-1-227e41383b02>\u001b[0m in \u001b[0;36m<module>\u001b[0;34m\u001b[0m\n\u001b[1;32m     20\u001b[0m \u001b[0;31m#import cv2\u001b[0m\u001b[0;34m\u001b[0m\u001b[0;34m\u001b[0m\u001b[0;34m\u001b[0m\u001b[0m\n\u001b[1;32m     21\u001b[0m \u001b[0;31m# open3d\u001b[0m\u001b[0;34m\u001b[0m\u001b[0;34m\u001b[0m\u001b[0;34m\u001b[0m\u001b[0m\n\u001b[0;32m---> 22\u001b[0;31m \u001b[0;32mimport\u001b[0m \u001b[0mopen3d\u001b[0m\u001b[0;34m\u001b[0m\u001b[0;34m\u001b[0m\u001b[0m\n\u001b[0m\u001b[1;32m     23\u001b[0m \u001b[0;31m#from lineset import LineMesh\u001b[0m\u001b[0;34m\u001b[0m\u001b[0;34m\u001b[0m\u001b[0;34m\u001b[0m\u001b[0m\n\u001b[1;32m     24\u001b[0m \u001b[0;31m# matplotlib for colormaps\u001b[0m\u001b[0;34m\u001b[0m\u001b[0;34m\u001b[0m\u001b[0;34m\u001b[0m\u001b[0m\n",
      "\u001b[0;31mModuleNotFoundError\u001b[0m: No module named 'open3d'"
     ]
    }
   ],
   "source": [
    "#!/usr/bin/python\n",
    "# -*- coding: utf-8 -*-\n",
    "\n",
    "\n",
    "#################\n",
    "## Import modules\n",
    "#################\n",
    "import sys\n",
    "# walk directories\n",
    "import glob\n",
    "# access to OS functionality\n",
    "import os\n",
    "# call processes\n",
    "import subprocess\n",
    "# copy things\n",
    "import copy\n",
    "# numpy\n",
    "import numpy as np\n",
    "# opencv\n",
    "#import cv2\n",
    "# open3d\n",
    "import open3d\n",
    "#from lineset import LineMesh\n",
    "# matplotlib for colormaps\n",
    "import matplotlib.cm\n",
    "import matplotlib.pyplot as plt\n",
    "from mpl_toolkits.mplot3d import Axes3D\n",
    "# scipy\n",
    "from scipy import interpolate\n",
    "# struct for reading binary ply files\n",
    "import struct\n",
    "# parse arguments\n",
    "import argparse\n",
    "try:\n",
    "    import matplotlib.colors\n",
    "    from PIL import __version__ as PILLOW_VERSION\n",
    "    from PIL import Image\n",
    "except:\n",
    "    pass\n",
    "\n",
    "#################\n",
    "## Helper classes\n",
    "#################\n",
    "\n",
    "# annotation helper\n",
    "from helpers.annotation  import Annotation3D, Annotation3DPly, global2local\n",
    "from helpers.project     import Camera\n",
    "from helpers.labels      import name2label, id2label, kittiId2label"
   ]
  },
  {
   "cell_type": "code",
   "execution_count": 2,
   "metadata": {},
   "outputs": [],
   "source": [
    "# the main class that parse fused point clouds\n",
    "class Kitti360Viewer3D(object):\n",
    "\n",
    "    # Constructor\n",
    "    def __init__(self, seq=0, showStatic=True):\n",
    "\n",
    "        # The sequence of the image we currently working on\n",
    "        self.currentSequence   = \"\"\n",
    "        # Image extension\n",
    "        self.imageExt          = \".png\"\n",
    "        # Filenames of all images in current city\n",
    "        self.images            = []\n",
    "        self.imagesCityFull    = []\n",
    "        # Ground truth type\n",
    "        self.gtType            = 'semantic'\n",
    "        # Add contour to semantic map\n",
    "        self.semanticCt        = True\n",
    "        # Add contour to instance map\n",
    "        self.instanceCt        = True\n",
    "        # The object that is highlighted and its label. An object instance\n",
    "        self.highlightObj      = None\n",
    "        self.highlightObjSparse= None\n",
    "        self.highlightObjLabel = None\n",
    "        # The current object the mouse points to. It's index in self.labels\n",
    "        self.mouseObj          = -1\n",
    "        # The current object the mouse points to. It's index in self.labels\n",
    "        self.mousePressObj     = -1\n",
    "        self.mouseSemanticId   = -1\n",
    "        self.mouseInstanceId   = -1\n",
    "        # show camera or not\n",
    "        self.showCamera        = False\n",
    "        self.downSampleEvery   = -1 \n",
    "        # show bbox wireframe or mesh\n",
    "        self.showWireframe     = False\n",
    "        self.show3DInstanceOnly= True\n",
    "        # show static or dynamic point clouds\n",
    "        self.showStatic        = showStatic \n",
    "        # show visible point clouds only\n",
    "        self.showVisibleOnly   = False\n",
    "        # colormap\n",
    "        self.cmap = matplotlib.cm.get_cmap('Set1')\n",
    "        self.cmap_length = 9 \n",
    "\n",
    "\n",
    "        kitti360Path = os.path.realpath(\"/Volumes/Erik's Files/Project/Datasets/KITTI-360/\")\n",
    "        \n",
    "\n",
    "        sequence = '2013_05_28_drive_%04d_sync' % seq\n",
    "        self.label3DPcdPath  = os.path.join(kitti360Path, 'data_3d_semantics')\n",
    "        #self.annotation3D = Annotation3D(self.label3DBboxPath, sequence)\n",
    "        self.annotation3DPly = Annotation3DPly(self.label3DPcdPath, sequence)\n",
    "        self.sequence = sequence\n",
    "\n",
    "        self.pointClouds = {}\n",
    "        self.Rz = np.eye(3)\n",
    "        self.accumuData = []\n",
    "\n",
    "    def getColor(self, idx):\n",
    "        if idx==0:\n",
    "            return np.array([0,0,0])\n",
    "        return np.asarray(self.cmap(idx % self.cmap_length)[:3])*255.\n",
    "\n",
    "    def assignColor(self, globalIds, gtType='semantic'):\n",
    "        if not isinstance(globalIds, (np.ndarray, np.generic)):\n",
    "            globalIds = np.array(globalIds)[None]\n",
    "        color = np.zeros((globalIds.size, 3))\n",
    "        for uid in np.unique(globalIds):\n",
    "            semanticId, instanceId = global2local(uid)\n",
    "            if gtType=='semantic':\n",
    "                color[globalIds==uid] = id2label[semanticId].color\n",
    "            elif instanceId>0:\n",
    "                color[globalIds==uid] = self.getColor(instanceId)\n",
    "            else:\n",
    "                color[globalIds==uid] = (96,96,96) # stuff objects in instance mode\n",
    "        color = color.astype(np.float)/255.0\n",
    "        return color\n",
    "    \n",
    "    def getLabelFilename(self, currentFile):\n",
    "        # Generate the filename of the label file\n",
    "        filename = os.path.basename(currentFile)\n",
    "        search = [lb for lb in self.label_images if filename in lb]\n",
    "        if not search:\n",
    "            return \"\"\n",
    "        filename = os.path.normpath(search[0])\n",
    "        return filename\n",
    "\n",
    "\n",
    "    def loadWindow(self, pcdFile, colorType='semantic', isLabeled=True, isDynamic=False):\n",
    "        window = pcdFile.split('/')[-2]\n",
    "        \n",
    "        print ('Loading %s ' % pcdFile)\n",
    "        \n",
    "        # load ply data using open3d for visualization\n",
    "        if window in self.pointClouds.keys():\n",
    "            pcd = self.pointClouds[window]\n",
    "        else:\n",
    "            pcd = open3d.io.read_point_cloud(pcdFile)\n",
    "\n",
    "        n_pts = np.asarray(pcd.points).shape[0]\n",
    "        data = self.annotation3DPly.readBinaryPly(pcdFile, n_pts)\n",
    "        \n",
    "        color=data[:,3:6]\n",
    "        mask = np.logical_and(np.mean(color,1)==128, np.std(color,1)==0)\n",
    "        mask = 1-mask\n",
    "        pcd = pcd.select_by_index(np.where(mask)[0])\n",
    "\n",
    "        data = data[mask.astype(np.bool),:]\n",
    "        self.accumuData.append(data)\n",
    "\n",
    "\n",
    "        # assign color\n",
    "        if colorType=='semantic' or colorType=='instance':\n",
    "            globalIds = data[:,7]\n",
    "        \n",
    "            ptsColor = self.assignColor(globalIds, colorType)\n",
    "            pcd.colors = open3d.utility.Vector3dVector(ptsColor)\n",
    "        elif colorType!='rgb':\n",
    "            raise ValueError(\"Color type can only be 'rgb','semantic', 'instance'!\")\n",
    "\n",
    "        return pcd\n",
    "\n",
    "\n",
    "    def loadWindows(self, colorType='semantic'):\n",
    "        pcdFolder = 'static' if self.showStatic else 'dynamic'\n",
    "        pcdFileList = sorted(glob.glob(os.path.join(self.label3DPcdPath, self.sequence, pcdFolder, '*.ply')))\n",
    "    \n",
    "        if not len(pcdFileList):\n",
    "            print ('%s does not exist!!' % os.path.join(self.label3DPcdPath, self.sequence, '*', pcdName))\n",
    "            return None\n",
    "\n",
    "        for idx,pcdFile in enumerate(pcdFileList):\n",
    "\n",
    "            window = pcdFile.split('/')[-2]\n",
    "            pcd = self.loadWindow(pcdFile)\n",
    "\n",
    "            self.pointClouds[window] = pcd"
   ]
  },
  {
   "cell_type": "markdown",
   "metadata": {},
   "source": [
    "## Sequence Visualizer"
   ]
  },
  {
   "cell_type": "code",
   "execution_count": null,
   "metadata": {
    "collapsed": true,
    "jupyter": {
     "outputs_hidden": true
    }
   },
   "outputs": [
    {
     "name": "stdout",
     "output_type": "stream",
     "text": [
      "Found 44 ply files in 2013_05_28_drive_0000_sync\n",
      "Loading /Volumes/Erik's Files/Project/Datasets/KITTI-360/data_3d_semantics/2013_05_28_drive_0000_sync/static/007777_007982.ply \n"
     ]
    }
   ],
   "source": [
    "class opts():\n",
    "    sequence = 0\n",
    "    mode = 'semantic'\n",
    "    max_bbox = 100\n",
    "\n",
    "args = opts()\n",
    "\n",
    "v = Kitti360Viewer3D(args.sequence, False)\n",
    "pcdFile = v.annotation3DPly.pcdFileList[30]\n",
    "pcd = v.loadWindow(pcdFile, args.mode)\n",
    "\n",
    "# Visualize the last sample scene\n",
    "mesh_frame = open3d.geometry.TriangleMesh.create_coordinate_frame(size=10, origin=-pcd.get_center())\n",
    "open3d.visualization.draw_geometries([pcd, mesh_frame])"
   ]
  },
  {
   "cell_type": "markdown",
   "metadata": {},
   "source": [
    "## Mini Dataset Creator"
   ]
  },
  {
   "cell_type": "code",
   "execution_count": 4,
   "metadata": {},
   "outputs": [],
   "source": [
    "from collections import namedtuple\n",
    "from statistics import mode\n",
    "import math\n",
    "\n",
    "\n",
    "#--------------------------------------------------------------------------------\n",
    "# Definitions\n",
    "#--------------------------------------------------------------------------------\n",
    "\n",
    "# a label and all meta information\n",
    "Label = namedtuple( 'Label' , [\n",
    "\n",
    "    'name'        , # The identifier of this label, e.g. 'car', 'person', ... .\n",
    "                    # We use them to uniquely name a class\n",
    "\n",
    "    'id'          , # An integer ID that is associated with this label.\n",
    "                    # The IDs are used to represent the label in ground truth images\n",
    "                    # An ID of -1 means that this label does not have an ID and thus\n",
    "                    # is ignored when creating ground truth images (e.g. license plate).\n",
    "                    # Do not modify these IDs, since exactly these IDs are expected by the\n",
    "                    # evaluation server.\n",
    "\n",
    "    'kittiId'     , # An integer ID that is associated with this label for KITTI-360\n",
    "                    # NOT FOR RELEASING\n",
    "\n",
    "    'trainId'     , # Feel free to modify these IDs as suitable for your method. Then create\n",
    "                    # ground truth images with train IDs, using the tools provided in the\n",
    "                    # 'preparation' folder. However, make sure to validate or submit results\n",
    "                    # to our evaluation server using the regular IDs above!\n",
    "                    # For trainIds, multiple labels might have the same ID. Then, these labels\n",
    "                    # are mapped to the same class in the ground truth images. For the inverse\n",
    "                    # mapping, we use the label that is defined first in the list below.\n",
    "                    # For example, mapping all void-type classes to the same ID in training,\n",
    "                    # might make sense for some approaches.\n",
    "                    # Max value is 255!\n",
    "\n",
    "    'category'    , # The name of the category that this label belongs to\n",
    "\n",
    "    'categoryId'  , # The ID of this category. Used to create ground truth images\n",
    "                    # on category level.\n",
    "\n",
    "    'hasInstances', # Whether this label distinguishes between single instances or not\n",
    "\n",
    "    'ignoreInEval', # Whether pixels having this class as ground truth label are ignored\n",
    "                    # during evaluations or not\n",
    "\n",
    "    'color'       , # The color of this label\n",
    "    ] )\n",
    "\n",
    "\n",
    "#--------------------------------------------------------------------------------\n",
    "# A list of all labels\n",
    "#--------------------------------------------------------------------------------\n",
    "\n",
    "# Please adapt the train IDs as appropriate for your approach.\n",
    "# Note that you might want to ignore labels with ID 255 during training.\n",
    "# Further note that the current train IDs are only a suggestion. You can use whatever you like.\n",
    "# Make sure to provide your results using the original IDs and not the training IDs.\n",
    "# Note that many IDs are ignored in evaluation and thus you never need to predict these!\n",
    "\n",
    "labels = [\n",
    "    #       name                     id    kittiId,    trainId   category            catId     hasInstances   ignoreInEval   color\n",
    "    Label(  'unlabeled'            ,  0 ,       -1 ,       255 , 'void'            , 0       , False        , True         , (  0,  0,  0) ),\n",
    "    Label(  'ego vehicle'          ,  1 ,       -1 ,       255 , 'void'            , 0       , False        , True         , (  0,  0,  0) ),\n",
    "    Label(  'rectification border' ,  2 ,       -1 ,       255 , 'void'            , 0       , False        , True         , (  0,  0,  0) ),\n",
    "    Label(  'out of roi'           ,  3 ,       -1 ,       255 , 'void'            , 0       , False        , True         , (  0,  0,  0) ),\n",
    "    Label(  'static'               ,  4 ,       -1 ,       255 , 'void'            , 0       , False        , True         , (  0,  0,  0) ),\n",
    "    Label(  'dynamic'              ,  5 ,       -1 ,       255 , 'void'            , 0       , False        , True         , (111, 74,  0) ),\n",
    "    Label(  'ground'               ,  6 ,       -1 ,       255 , 'void'            , 0       , False        , True         , ( 81,  0, 81) ),\n",
    "    Label(  'road'                 ,  7 ,        1 ,         0 , 'flat'            , 1       , False        , False        , (128, 64,128) ),\n",
    "    Label(  'sidewalk'             ,  8 ,        3 ,         1 , 'flat'            , 1       , False        , False        , (244, 35,232) ),\n",
    "    Label(  'parking'              ,  9 ,        2 ,       255 , 'flat'            , 1       , False        , True         , (250,170,160) ),\n",
    "    Label(  'rail track'           , 10 ,        10,       255 , 'flat'            , 1       , False        , True         , (230,150,140) ),\n",
    "    Label(  'building'             , 11 ,        11,         2 , 'construction'    , 2       , True         , False        , ( 70, 70, 70) ),\n",
    "    Label(  'wall'                 , 12 ,        7 ,         3 , 'construction'    , 2       , False        , False        , (102,102,156) ),\n",
    "    Label(  'fence'                , 13 ,        8 ,         4 , 'construction'    , 2       , False        , False        , (190,153,153) ),\n",
    "    Label(  'guard rail'           , 14 ,        30,       255 , 'construction'    , 2       , False        , True         , (180,165,180) ),\n",
    "    Label(  'bridge'               , 15 ,        31,       255 , 'construction'    , 2       , False        , True         , (150,100,100) ),\n",
    "    Label(  'tunnel'               , 16 ,        32,       255 , 'construction'    , 2       , False        , True         , (150,120, 90) ),\n",
    "    Label(  'pole'                 , 17 ,        21,         5 , 'object'          , 3       , True         , False        , (153,153,153) ),\n",
    "    Label(  'polegroup'            , 18 ,       -1 ,       255 , 'object'          , 3       , False        , True         , (153,153,153) ),\n",
    "    Label(  'traffic light'        , 19 ,        23,         6 , 'object'          , 3       , True         , False        , (250,170, 30) ),\n",
    "    Label(  'traffic sign'         , 20 ,        24,         7 , 'object'          , 3       , True         , False        , (220,220,  0) ),\n",
    "    Label(  'vegetation'           , 21 ,        5 ,         8 , 'nature'          , 4       , False        , False        , (107,142, 35) ),\n",
    "    Label(  'terrain'              , 22 ,        4 ,         9 , 'nature'          , 4       , False        , False        , (152,251,152) ),\n",
    "    Label(  'sky'                  , 23 ,        9 ,        10 , 'sky'             , 5       , False        , False        , ( 70,130,180) ),\n",
    "    Label(  'person'               , 24 ,        19,        11 , 'human'           , 6       , True         , False        , (220, 20, 60) ),\n",
    "    Label(  'rider'                , 25 ,        20,        12 , 'human'           , 6       , True         , False        , (255,  0,  0) ),\n",
    "    Label(  'car'                  , 26 ,        13,        13 , 'vehicle'         , 7       , True         , False        , (  0,  0,142) ),\n",
    "    Label(  'truck'                , 27 ,        14,        14 , 'vehicle'         , 7       , True         , False        , (  0,  0, 70) ),\n",
    "    Label(  'bus'                  , 28 ,        34,        15 , 'vehicle'         , 7       , True         , False        , (  0, 60,100) ),\n",
    "    Label(  'caravan'              , 29 ,        16,       255 , 'vehicle'         , 7       , True         , True         , (  0,  0, 90) ),\n",
    "    Label(  'trailer'              , 30 ,        15,       255 , 'vehicle'         , 7       , True         , True         , (  0,  0,110) ),\n",
    "    Label(  'train'                , 31 ,        33,        16 , 'vehicle'         , 7       , True         , False        , (  0, 80,100) ),\n",
    "    Label(  'motorcycle'           , 32 ,        17,        17 , 'vehicle'         , 7       , True         , False        , (  0,  0,230) ),\n",
    "    Label(  'bicycle'              , 33 ,        18,        18 , 'vehicle'         , 7       , True         , False        , (119, 11, 32) ),\n",
    "    Label(  'garage'               , 34 ,        12,         2 , 'construction'    , 2       , True         , False        , ( 64,128,128) ),\n",
    "    Label(  'gate'                 , 35 ,        6 ,         4 , 'construction'    , 2       , False        , False        , (190,153,153) ),\n",
    "    Label(  'stop'                 , 36 ,        29,       255 , 'construction'    , 2       , True         , True         , (150,120, 90) ),\n",
    "    Label(  'smallpole'            , 37 ,        22,         5 , 'object'          , 3       , True         , False        , (153,153,153) ),\n",
    "    Label(  'lamp'                 , 38 ,        25,       255 , 'object'          , 3       , True         , False        , (0,   64, 64) ),\n",
    "    Label(  'trash bin'            , 39 ,        26,       255 , 'object'          , 3       , True         , False        , (0,  128,192) ),\n",
    "    Label(  'vending machine'      , 40 ,        27,       255 , 'object'          , 3       , True         , False        , (128, 64,  0) ),\n",
    "    Label(  'box'                  , 41 ,        28,       255 , 'object'          , 3       , True         , False        , (64,  64,128) ),\n",
    "    Label(  'unknown construction' , 42 ,        35,       255 , 'void'            , 0       , False        , True         , (102,  0,  0) ),\n",
    "    Label(  'unknown vehicle'      , 43 ,        36,       255 , 'void'            , 0       , False        , True         , ( 51,  0, 51) ),\n",
    "    Label(  'unknown object'       , 44 ,        37,       255 , 'void'            , 0       , False        , True         , ( 32, 32, 32) ),\n",
    "    Label(  'license plate'        , -1 ,        -1,        -1 , 'vehicle'         , 7       , False        , True         , (  0,  0,142) ),\n",
    "]\n",
    "\n",
    "#--------------------------------------------------------------------------------\n",
    "# Create dictionaries for a fast lookup\n",
    "#--------------------------------------------------------------------------------\n",
    "\n",
    "# color to classification\n",
    "color2labelid = { label.color:label.kittiId for label in labels}\n",
    "\n",
    "# classification to color\n",
    "labelid2color = { label.kittiId:label.color for label in labels}\n",
    "\n",
    "#--------------------------------------------------------------------------------\n",
    "# Create function to convert segmentation colors to classification\n",
    "#--------------------------------------------------------------------------------\n",
    "def downsapler(part, part_sem, voxel_size=0.1):\n",
    "    # input is numpy array N * xyzrgblll where lll are the segmentation colors for each class\n",
    "    # output are 3 numpy arrays: N * xyz, N * rgb, N * labels\n",
    "    part_vxds = part.voxel_down_sample_and_trace(voxel_size, part.get_min_bound(), part.get_max_bound())\n",
    "    part_down_sampled = part_vxds[0]\n",
    "\n",
    "    part_sem_vxds = part_sem.voxel_down_sample_and_trace(voxel_size, part_sem.get_min_bound(), part_sem.get_max_bound())\n",
    "    part_sem_down_sampled = part_sem_vxds[0]\n",
    "    part_sem_traces = part_sem_vxds[2]\n",
    "\n",
    "    labels = []\n",
    "\n",
    "    for idx in part_sem_traces:\n",
    "        idx = list(idx)\n",
    "        colors = np.asarray(part_sem.select_by_index(idx).colors)\n",
    "        mode_color_array = (255*colors).astype(int)\n",
    "        mode_color_tuples = [tuple(x) for x in mode_color_array]\n",
    "\n",
    "        # you cant use scipy.stats.mode becasue when there isnt a mode, it picks the mins for each column!\n",
    "        try:\n",
    "            voxel_colors_mode = mode(mode_color_tuples)\n",
    "        except:\n",
    "            voxel_colors_mode = mode_color_tuples[0]\n",
    "        \n",
    "        labelid = color2labelid[tuple(voxel_colors_mode)]\n",
    "        labels.append(int(labelid))\n",
    "\n",
    "    points = np.concatenate((np.asarray(part_down_sampled.points), np.asarray(part_down_sampled.colors)), axis=1)\n",
    "    return points, np.array(labels)"
   ]
  },
  {
   "cell_type": "code",
   "execution_count": 14,
   "metadata": {
    "collapsed": true,
    "jupyter": {
     "outputs_hidden": true
    }
   },
   "outputs": [
    {
     "name": "stdout",
     "output_type": "stream",
     "text": [
      "Found 44 ply files in 2013_05_28_drive_0000_sync\n",
      "Loading /Volumes/Erik's Files/Project/Datasets/KITTI-360/data_3d_semantics/2013_05_28_drive_0000_sync/static/005249_005900.ply \n",
      "Loading /Volumes/Erik's Files/Project/Datasets/KITTI-360/data_3d_semantics/2013_05_28_drive_0000_sync/static/005249_005900.ply \n"
     ]
    }
   ],
   "source": [
    "# Create mini dataset with only the street and sidewalks for training and testing the model\n",
    "scene_step = 2\n",
    "\n",
    "class opts():\n",
    "    sequence = 0\n",
    "    mode = 'rgb'\n",
    "\n",
    "args = opts()\n",
    "\n",
    "\n",
    "v = Kitti360Viewer3D(args.sequence, True)\n",
    "pcdFile = v.annotation3DPly.pcdFileList[20]\n",
    "\n",
    "# pcd.colors are the rgb of data\n",
    "pcd = v.loadWindow(pcdFile, 'rgb')\n",
    "\n",
    "# pcd.colors are the semantic segmentation data\n",
    "pcd_sem = v.loadWindow(pcdFile, 'semantic')\n",
    "\n",
    "\n",
    "d = 14\n",
    "t = math.radians(d)\n",
    "x = math.cos(t)\n",
    "y = math.sin(t)\n",
    "pcd.rotate(np.array([[x,-y,0],[y,x,0],[0,0,1]]), pcd.get_center())\n",
    "\n",
    "# to get the labels back after rotations!\n",
    "pcd_sem.rotate(np.array([[x,-y,0],[y,x,0],[0,0,1]]), pcd_sem.get_center())\n",
    "\n",
    "box = open3d.geometry.AxisAlignedBoundingBox.create_from_points(pcd.points)\n",
    "\n",
    "for i in range(35):\n",
    "    vol = open3d.geometry.OrientedBoundingBox.create_from_axis_aligned_bounding_box(box)\n",
    "    vol.extent = np.array([27,20,10])\n",
    "    vol.center = vol.get_center() - np.array([22, (30 - i*scene_step), 0])\n",
    "    part = pcd.crop(vol)\n",
    "    part_sem = pcd_sem.crop(vol)\n",
    "    \n",
    "    # convert semantic colors to labels\n",
    "    points, labels = downsapler(part, part_sem, 0.2)\n",
    "    file_name = 'mini_dataset_big_vx02/mini_dataset_xyzrgbl_' + str(i)\n",
    "    \n",
    "    data = np.concatenate((points, labels.reshape([labels.shape[0],1])), axis=1)\n",
    "    np.save(file_name, data)\n",
    "    #print(points.shape)\n",
    "\n",
    "    #Visualize the last sample scene\n",
    "#     mesh_frame = open3d.geometry.TriangleMesh.create_coordinate_frame(size=10, origin=-pcd.get_center())\n",
    "#     px = open3d.geometry.PointCloud(open3d.utility.Vector3dVector(points[:,0:3]))\n",
    "#     open3d.visualization.draw_geometries([px, mesh_frame])\n",
    "#     break"
   ]
  },
  {
   "cell_type": "code",
   "execution_count": 6,
   "metadata": {
    "collapsed": true,
    "jupyter": {
     "outputs_hidden": true
    }
   },
   "outputs": [],
   "source": [
    "mesh_frame = open3d.geometry.TriangleMesh.create_coordinate_frame(size=10, origin=-pcd.get_center())\n",
    "px = open3d.geometry.PointCloud(open3d.utility.Vector3dVector(points[:,0:3]))\n",
    "open3d.visualization.draw_geometries([px, mesh_frame])"
   ]
  },
  {
   "cell_type": "code",
   "execution_count": 25,
   "metadata": {
    "collapsed": true,
    "jupyter": {
     "outputs_hidden": true
    }
   },
   "outputs": [],
   "source": [
    "open3d.visualization.draw_geometries([part_sem, mesh_frame])"
   ]
  },
  {
   "cell_type": "markdown",
   "metadata": {},
   "source": [
    "## Mini Dataset Creator: Full Resolution, for random sampling"
   ]
  },
  {
   "cell_type": "code",
   "execution_count": 6,
   "metadata": {
    "collapsed": true,
    "jupyter": {
     "outputs_hidden": true
    }
   },
   "outputs": [
    {
     "name": "stdout",
     "output_type": "stream",
     "text": [
      "Found 44 ply files in 2013_05_28_drive_0000_sync\n",
      "Loading /Volumes/Erik's Files/Project/Datasets/KITTI-360/data_3d_semantics/2013_05_28_drive_0000_sync/static/005249_005900.ply \n",
      "Loading /Volumes/Erik's Files/Project/Datasets/KITTI-360/data_3d_semantics/2013_05_28_drive_0000_sync/static/005249_005900.ply \n"
     ]
    }
   ],
   "source": [
    "# Create mini dataset with only the street and sidewalks for training and testing the model\n",
    "scene_step = 2\n",
    "\n",
    "class opts():\n",
    "    sequence = 0\n",
    "    mode = 'rgb'\n",
    "\n",
    "args = opts()\n",
    "\n",
    "\n",
    "v = Kitti360Viewer3D(args.sequence, True)\n",
    "pcdFile = v.annotation3DPly.pcdFileList[20]\n",
    "\n",
    "# pcd.colors are the rgb of data\n",
    "pcd = v.loadWindow(pcdFile, 'rgb')\n",
    "\n",
    "# pcd.colors are the semantic segmentation data\n",
    "pcd_sem = v.loadWindow(pcdFile, 'semantic')\n",
    "\n",
    "\n",
    "d = 14\n",
    "t = math.radians(d)\n",
    "x = math.cos(t)\n",
    "y = math.sin(t)\n",
    "pcd.rotate(np.array([[x,-y,0],[y,x,0],[0,0,1]]), pcd.get_center())\n",
    "\n",
    "# to get the labels back after rotations!\n",
    "pcd_sem.rotate(np.array([[x,-y,0],[y,x,0],[0,0,1]]), pcd_sem.get_center())\n",
    "\n",
    "box = open3d.geometry.AxisAlignedBoundingBox.create_from_points(pcd.points)\n",
    "\n",
    "for i in range(35):\n",
    "    vol = open3d.geometry.OrientedBoundingBox.create_from_axis_aligned_bounding_box(box)\n",
    "    vol.extent = np.array([20,20,10])\n",
    "    vol.center = vol.get_center() - np.array([23.5, (30 - i*scene_step), 0])\n",
    "    part = pcd.crop(vol)\n",
    "    part_sem = pcd_sem.crop(vol)\n",
    "    \n",
    "    # convert semantic colors to labels\n",
    "    points = np.asarray(part.points)\n",
    "    rgb = np.asarray(part.colors)\n",
    "    label_colors = np.asarray(part_sem.colors)*255\n",
    "    labels = np.array([color2labelid[tuple(x.astype(int))] for x in label_colors])\n",
    "    file_name = 'mini_dataset_fullres/mini_dataset_fullres_xyzrgbl_' + str(i)\n",
    "    \n",
    "    data = np.concatenate((points, rgb, labels.reshape([labels.shape[0],1])), axis=1)\n",
    "    np.save(file_name, data)\n",
    "    #print(labels)\n",
    "    #Visualize the last sample scene\n",
    "    #mesh_frame = open3d.geometry.TriangleMesh.create_coordinate_frame(size=10, origin=-pcd.get_center())\n",
    "    #px = open3d.geometry.PointCloud(open3d.utility.Vector3dVector(points[:,0:3]))\n",
    "    #open3d.visualization.draw_geometries([px, mesh_frame])\n",
    "    #break"
   ]
  },
  {
   "cell_type": "code",
   "execution_count": 5,
   "metadata": {
    "collapsed": true,
    "jupyter": {
     "outputs_hidden": true
    }
   },
   "outputs": [
    {
     "name": "stdout",
     "output_type": "stream",
     "text": [
      "Found 44 ply files in 2013_05_28_drive_0000_sync\n",
      "Loading /Volumes/Erik's Files/Project/Datasets/KITTI-360/data_3d_semantics/2013_05_28_drive_0000_sync/static/007777_007982.ply \n",
      "Loading /Volumes/Erik's Files/Project/Datasets/KITTI-360/data_3d_semantics/2013_05_28_drive_0000_sync/static/007777_007982.ply \n"
     ]
    }
   ],
   "source": [
    "# Create mini dataset with only the street and sidewalks for training and testing the model\n",
    "scene_step = 2\n",
    "\n",
    "class opts():\n",
    "    sequence = 0\n",
    "    mode = 'rgb'\n",
    "\n",
    "args = opts()\n",
    "\n",
    "\n",
    "v = Kitti360Viewer3D(args.sequence, True)\n",
    "pcdFile = v.annotation3DPly.pcdFileList[30]\n",
    "\n",
    "# pcd.colors are the rgb of data\n",
    "pcd = v.loadWindow(pcdFile, 'rgb')\n",
    "\n",
    "# pcd.colors are the semantic segmentation data\n",
    "pcd_sem = v.loadWindow(pcdFile, 'semantic')\n",
    "\n",
    "\n",
    "d = -64\n",
    "t = math.radians(d)\n",
    "x = math.cos(t)\n",
    "y = math.sin(t)\n",
    "pcd.rotate(np.array([[x,-y,0],[y,x,0],[0,0,1]]), pcd.get_center())\n",
    "\n",
    "# to get the labels back after rotations!\n",
    "pcd_sem.rotate(np.array([[x,-y,0],[y,x,0],[0,0,1]]), pcd_sem.get_center())\n",
    "\n",
    "box = open3d.geometry.AxisAlignedBoundingBox.create_from_points(pcd.points)\n",
    "\n",
    "for i in range(50):\n",
    "    vol = open3d.geometry.OrientedBoundingBox.create_from_axis_aligned_bounding_box(box)\n",
    "    vol.extent = np.array([27,20,10])\n",
    "    vol.center = vol.get_center() - np.array([6.5, (30 - i*scene_step), 1])\n",
    "    part = pcd.crop(vol)\n",
    "    part_sem = pcd_sem.crop(vol)\n",
    "    \n",
    "    \n",
    "    # convert semantic colors to labels\n",
    "    points = np.asarray(part.points)\n",
    "    rgb = np.asarray(part.colors)\n",
    "    label_colors = np.asarray(part_sem.colors)*255\n",
    "    labels = np.array([color2labelid[tuple(x.astype(int))] for x in label_colors])\n",
    "    file_name = 'mini_dataset_fullres/mini_dataset_fullres_2_xyzrgbl_' + str(i)\n",
    "    \n",
    "    data = np.concatenate((points, rgb, labels.reshape([labels.shape[0],1])), axis=1)\n",
    "    np.save(file_name, data)\n",
    "    #print(points.shape)\n",
    "    \n",
    "    # Visualize the last sample scene\n",
    "#     mesh_frame = open3d.geometry.TriangleMesh.create_coordinate_frame(size=10, origin=-pcd.get_center())\n",
    "#     open3d.visualization.draw_geometries([part, mesh_frame])\n",
    "#     break"
   ]
  },
  {
   "cell_type": "markdown",
   "metadata": {},
   "source": [
    "## Mini Test Dataset Creator"
   ]
  },
  {
   "cell_type": "code",
   "execution_count": 22,
   "metadata": {
    "collapsed": true,
    "jupyter": {
     "outputs_hidden": true
    }
   },
   "outputs": [
    {
     "name": "stdout",
     "output_type": "stream",
     "text": [
      "Found 44 ply files in 2013_05_28_drive_0000_sync\n",
      "Loading /Volumes/Erik's Files/Project/Datasets/KITTI-360/data_3d_semantics/2013_05_28_drive_0000_sync/static/007777_007982.ply \n",
      "Loading /Volumes/Erik's Files/Project/Datasets/KITTI-360/data_3d_semantics/2013_05_28_drive_0000_sync/static/007777_007982.ply \n"
     ]
    }
   ],
   "source": [
    "# Create mini dataset with only the street and sidewalks for training and testing the model\n",
    "scene_step = 2\n",
    "\n",
    "class opts():\n",
    "    sequence = 0\n",
    "    mode = 'rgb'\n",
    "\n",
    "args = opts()\n",
    "\n",
    "\n",
    "v = Kitti360Viewer3D(args.sequence, True)\n",
    "pcdFile = v.annotation3DPly.pcdFileList[30]\n",
    "\n",
    "# pcd.colors are the rgb of data\n",
    "pcd = v.loadWindow(pcdFile, 'rgb')\n",
    "\n",
    "# pcd.colors are the semantic segmentation data\n",
    "pcd_sem = v.loadWindow(pcdFile, 'semantic')\n",
    "\n",
    "\n",
    "d = -64\n",
    "t = math.radians(d)\n",
    "x = math.cos(t)\n",
    "y = math.sin(t)\n",
    "pcd.rotate(np.array([[x,-y,0],[y,x,0],[0,0,1]]), pcd.get_center())\n",
    "\n",
    "# to get the labels back after rotations!\n",
    "pcd_sem.rotate(np.array([[x,-y,0],[y,x,0],[0,0,1]]), pcd_sem.get_center())\n",
    "\n",
    "box = open3d.geometry.AxisAlignedBoundingBox.create_from_points(pcd.points)\n",
    "\n",
    "for i in range(50):\n",
    "    vol = open3d.geometry.OrientedBoundingBox.create_from_axis_aligned_bounding_box(box)\n",
    "    vol.extent = np.array([27,20,10])\n",
    "    vol.center = vol.get_center() - np.array([6.5, (30 - i*scene_step), 1])\n",
    "    part = pcd.crop(vol)\n",
    "    part_sem = pcd_sem.crop(vol)\n",
    "    \n",
    "    \n",
    "    # convert semantic colors to labels\n",
    "    points, labels = downsapler(part, part_sem, 0.2)\n",
    "    file_name = 'mini_dataset_big_vx02/mini_dataset_2_xyzrgbl_' + str(i)\n",
    "    \n",
    "    data = np.concatenate((points, labels.reshape([labels.shape[0],1])), axis=1)\n",
    "    np.save(file_name, data)\n",
    "    #print(points.shape)\n",
    "    \n",
    "    # Visualize the last sample scene\n",
    "#     mesh_frame = open3d.geometry.TriangleMesh.create_coordinate_frame(size=10, origin=-pcd.get_center())\n",
    "#     open3d.visualization.draw_geometries([part, mesh_frame])\n",
    "#     break"
   ]
  },
  {
   "cell_type": "code",
   "execution_count": 6,
   "metadata": {
    "collapsed": true,
    "jupyter": {
     "outputs_hidden": true
    }
   },
   "outputs": [],
   "source": [
    "mesh_frame = open3d.geometry.TriangleMesh.create_coordinate_frame(size=10, origin=-pcd.get_center())\n",
    "open3d.visualization.draw_geometries([part, mesh_frame])"
   ]
  },
  {
   "cell_type": "markdown",
   "metadata": {},
   "source": [
    "## Random Code Tests"
   ]
  },
  {
   "cell_type": "code",
   "execution_count": 4,
   "metadata": {
    "collapsed": true,
    "jupyter": {
     "outputs_hidden": true
    }
   },
   "outputs": [],
   "source": [
    "t0 = np.load('mini_dataset/mini_dataset_xyzrgbl_1.npy')"
   ]
  },
  {
   "cell_type": "code",
   "execution_count": 5,
   "metadata": {
    "collapsed": true,
    "jupyter": {
     "outputs_hidden": true
    }
   },
   "outputs": [
    {
     "data": {
      "text/plain": [
       "(40555, 7)"
      ]
     },
     "execution_count": 5,
     "metadata": {},
     "output_type": "execute_result"
    }
   ],
   "source": [
    "t0.shape"
   ]
  },
  {
   "cell_type": "code",
   "execution_count": 6,
   "metadata": {
    "collapsed": true,
    "jupyter": {
     "outputs_hidden": true
    }
   },
   "outputs": [],
   "source": [
    "labelid2color = {label.id:label.color for label in labels}\n",
    "v0 = open3d.utility.Vector3dVector(t0[:,0:3])\n",
    "c0 = [np.array(labelid2color[x[-1]])/255 for x in t0]\n",
    "v00 = open3d.utility.Vector3dVector(c0)\n",
    "pcd2 = open3d.geometry.PointCloud(v0)\n",
    "pcd2.colors = v00"
   ]
  },
  {
   "cell_type": "code",
   "execution_count": 39,
   "metadata": {
    "collapsed": true,
    "jupyter": {
     "outputs_hidden": true
    }
   },
   "outputs": [],
   "source": [
    "open3d.visualization.draw_geometries([pcd2])"
   ]
  },
  {
   "cell_type": "code",
   "execution_count": 7,
   "metadata": {
    "collapsed": true,
    "jupyter": {
     "outputs_hidden": true
    }
   },
   "outputs": [
    {
     "data": {
      "text/plain": [
       "True"
      ]
     },
     "execution_count": 7,
     "metadata": {},
     "output_type": "execute_result"
    }
   ],
   "source": [
    "pcd2.estimate_normals(search_param=open3d.geometry.KDTreeSearchParamHybrid(radius=0.3, max_nn=6))\n",
    "pcd2.orient_normals_to_align_with_direction()"
   ]
  },
  {
   "cell_type": "code",
   "execution_count": 8,
   "metadata": {
    "collapsed": true,
    "jupyter": {
     "outputs_hidden": true
    }
   },
   "outputs": [],
   "source": [
    "open3d.visualization.draw_geometries([pcd2],point_show_normal=True)"
   ]
  },
  {
   "cell_type": "code",
   "execution_count": 353,
   "metadata": {
    "collapsed": true,
    "jupyter": {
     "outputs_hidden": true
    }
   },
   "outputs": [],
   "source": [
    "ls = t0[:,6:7]*np.ones_like(t0[:,0:3])\n",
    "v000 = open3d.utility.Vector3dVector(ls)\n",
    "pcd2.colors = v000\n",
    "open3d.visualization.draw_geometries([pcd2])"
   ]
  },
  {
   "cell_type": "code",
   "execution_count": null,
   "metadata": {
    "collapsed": true,
    "jupyter": {
     "outputs_hidden": true
    }
   },
   "outputs": [],
   "source": [
    "t0[100:120,6:7]"
   ]
  },
  {
   "cell_type": "code",
   "execution_count": 439,
   "metadata": {
    "collapsed": true,
    "jupyter": {
     "outputs_hidden": true
    }
   },
   "outputs": [
    {
     "data": {
      "text/plain": [
       "geometry::PointCloud with 6045 points."
      ]
     },
     "execution_count": 439,
     "metadata": {},
     "output_type": "execute_result"
    }
   ],
   "source": [
    "v0 = open3d.utility.Vector3dVector(t0[:,0:3])\n",
    "v00 = open3d.utility.Vector3dVector(t0[:,3:6])\n",
    "pcd2 = open3d.geometry.PointCloud(v0)\n",
    "pcd2.colors = v00\n",
    "pcd2.voxel_down_sample(0.2)"
   ]
  },
  {
   "cell_type": "code",
   "execution_count": 1137,
   "metadata": {
    "collapsed": true,
    "jupyter": {
     "outputs_hidden": true
    }
   },
   "outputs": [],
   "source": [
    "p = part.voxel_down_sample_and_trace(0.15, part.get_min_bound(), part_sem.get_max_bound())\n",
    "p_sem = part_sem.voxel_down_sample_and_trace(0.15, part_sem.get_min_bound(), part_sem.get_max_bound())\n",
    "#print(p)\n",
    "#print(p_sem)"
   ]
  },
  {
   "cell_type": "markdown",
   "metadata": {},
   "source": [
    "### k-nearest"
   ]
  },
  {
   "cell_type": "code",
   "execution_count": 23,
   "metadata": {
    "collapsed": true,
    "jupyter": {
     "outputs_hidden": true
    }
   },
   "outputs": [
    {
     "name": "stdout",
     "output_type": "stream",
     "text": [
      "4 IntVector[10, 11, 22380, 22073] DoubleVector[0, 0.00615776, 0.0256391, 0.0573854]\n"
     ]
    }
   ],
   "source": [
    "pcd_tree = open3d.geometry.KDTreeFlann(pcd2)\n",
    "[k, idx, d] = pcd_tree.search_knn_vector_3d(pcd2.points[10], 4)\n",
    "print(k,idx,d)"
   ]
  },
  {
   "cell_type": "code",
   "execution_count": 28,
   "metadata": {
    "collapsed": true,
    "jupyter": {
     "outputs_hidden": true
    }
   },
   "outputs": [],
   "source": [
    "K = []\n",
    "IDX = []\n",
    "D = []\n",
    "for i in range(10000):\n",
    "    [k, idx, d] = pcd_tree.search_knn_vector_3d(pcd2.points[i], 4)\n",
    "    K.append(k)\n",
    "    IDX.append(idx)\n",
    "    D.append(d)"
   ]
  },
  {
   "cell_type": "markdown",
   "metadata": {},
   "source": [
    "# VAE"
   ]
  },
  {
   "cell_type": "code",
   "execution_count": 6,
   "metadata": {},
   "outputs": [],
   "source": [
    "Y = np.load('Y-2.npy')\n",
    "# l = range(900,1000)\n",
    "# pts = Y[0,l,0:3]*15\n",
    "# rgb = Y[0,l,3:6]\n",
    "pts = Y[0,:,0:3]#*15\n",
    "rgb = Y[0,:,3:6]"
   ]
  },
  {
   "cell_type": "code",
   "execution_count": 7,
   "metadata": {},
   "outputs": [],
   "source": [
    "xyz = open3d.utility.Vector3dVector(pts)\n",
    "pcd_colors = open3d.utility.Vector3dVector(rgb)\n",
    "pcd0 = open3d.geometry.PointCloud(xyz)\n",
    "pcd0.colors = pcd_colors\n",
    "open3d.visualization.draw_geometries([pcd0])"
   ]
  },
  {
   "cell_type": "code",
   "execution_count": 68,
   "metadata": {},
   "outputs": [
    {
     "name": "stdout",
     "output_type": "stream",
     "text": [
      "[[ 2.3287973   0.5621117  -1.0827452 ]\n",
      " [-1.4845214  -0.03107503  2.6949065 ]\n",
      " [-1.0202713  -0.8881884  -2.2054584 ]\n",
      " [-0.25012538 -0.911252   -0.37897602]\n",
      " [-0.47461894 -0.03860363 -3.267272  ]\n",
      " [ 0.0913282  -0.43400007 -0.86597   ]\n",
      " [ 0.6835573  -1.1790788   1.0574652 ]\n",
      " [ 1.9914403   0.7279136  -0.9862106 ]\n",
      " [-0.08092725  0.25658014 -3.132513  ]\n",
      " [-0.9002515   1.3548651   1.4159157 ]\n",
      " [ 0.5760046  -1.0684519   1.4368594 ]\n",
      " [-0.77308905 -0.51228595  0.99722457]\n",
      " [ 0.7168331  -1.2190093   0.38112143]\n",
      " [-0.848552    1.1755533  -0.67953706]\n",
      " [ 1.5653814   0.85880697  0.23238173]\n",
      " [-0.5500667   0.93335474 -0.9400485 ]\n",
      " [-0.6444188   1.7142674   0.21598628]\n",
      " [ 0.02139163  0.49864778  1.2496477 ]\n",
      " [ 0.73099583  2.3985696  -1.2343806 ]\n",
      " [-1.1575047  -0.2927308   1.0882311 ]\n",
      " [-0.27650353 -0.39722785 -0.7650398 ]\n",
      " [-0.95080686 -0.51901895  1.270132  ]\n",
      " [-0.6045629   1.3012292   0.24706548]\n",
      " [ 0.56922424 -1.0770212   0.10777709]\n",
      " [ 0.28325832 -0.37196413 -0.97051644]\n",
      " [ 0.26134294  1.3118886   0.20918462]\n",
      " [ 1.5468398  -0.84414256  2.7376592 ]\n",
      " [ 0.41309953 -1.4033679  -1.5051622 ]\n",
      " [-1.6584934  -2.3731802   1.188579  ]\n",
      " [-1.452262    0.20010176  0.5212787 ]\n",
      " [ 1.8466884  -1.1475334  -0.6921675 ]\n",
      " [-0.03731847 -0.38936782  0.57308483]\n",
      " [-0.5256902  -0.59904885 -0.46728763]\n",
      " [ 2.053004    1.4820081  -0.89041424]\n",
      " [ 1.1118816   0.42003614 -0.5899659 ]\n",
      " [-1.9623883  -0.15307647 -0.37831673]\n",
      " [-0.21807767  0.21024454  0.4158404 ]\n",
      " [ 0.24182059 -0.83096194 -0.91281325]\n",
      " [-0.33618507  0.4377291  -1.1414382 ]\n",
      " [ 0.3728371  -1.7793157   0.4271597 ]\n",
      " [ 3.1596017   0.39129043  0.17865881]\n",
      " [ 2.892799   -0.98481417  1.3223555 ]\n",
      " [ 0.8694037  -0.7855888  -0.997602  ]\n",
      " [-1.9219949  -0.72579575 -0.26752093]\n",
      " [-0.2317042   0.46377164 -1.4987621 ]\n",
      " [-0.1193827   1.5860685   0.2589953 ]\n",
      " [-0.8223475  -0.4347563  -0.37472078]\n",
      " [-1.1693015   1.5430639   2.3086205 ]\n",
      " [-0.56875736 -0.3590968   0.8477578 ]]\n"
     ]
    }
   ],
   "source": [
    "print(Y[0,1:50,:3])"
   ]
  },
  {
   "cell_type": "markdown",
   "metadata": {},
   "source": [
    "## Prediction"
   ]
  },
  {
   "cell_type": "code",
   "execution_count": 2,
   "metadata": {},
   "outputs": [
    {
     "ename": "NameError",
     "evalue": "name 'np' is not defined",
     "output_type": "error",
     "traceback": [
      "\u001b[0;31m---------------------------------------------------------------------------\u001b[0m",
      "\u001b[0;31mNameError\u001b[0m                                 Traceback (most recent call last)",
      "\u001b[0;32m<ipython-input-2-6e5a1ac67665>\u001b[0m in \u001b[0;36m<module>\u001b[0;34m\u001b[0m\n\u001b[0;32m----> 1\u001b[0;31m \u001b[0mpred\u001b[0m \u001b[0;34m=\u001b[0m \u001b[0mnp\u001b[0m\u001b[0;34m.\u001b[0m\u001b[0mload\u001b[0m\u001b[0;34m(\u001b[0m\u001b[0;34m'pred.npy'\u001b[0m\u001b[0;34m)\u001b[0m\u001b[0;34m\u001b[0m\u001b[0;34m\u001b[0m\u001b[0m\n\u001b[0m\u001b[1;32m      2\u001b[0m \u001b[0mpoints0\u001b[0m \u001b[0;34m=\u001b[0m \u001b[0mnp\u001b[0m\u001b[0;34m.\u001b[0m\u001b[0mload\u001b[0m\u001b[0;34m(\u001b[0m\u001b[0;34m'points.npy'\u001b[0m\u001b[0;34m)\u001b[0m\u001b[0;34m\u001b[0m\u001b[0;34m\u001b[0m\u001b[0m\n\u001b[1;32m      3\u001b[0m \u001b[0mbatch_target\u001b[0m \u001b[0;34m=\u001b[0m \u001b[0mnp\u001b[0m\u001b[0;34m.\u001b[0m\u001b[0mload\u001b[0m\u001b[0;34m(\u001b[0m\u001b[0;34m'target.npy'\u001b[0m\u001b[0;34m)\u001b[0m\u001b[0;34m\u001b[0m\u001b[0;34m\u001b[0m\u001b[0m\n\u001b[1;32m      4\u001b[0m \u001b[0mbatch_points\u001b[0m \u001b[0;34m=\u001b[0m \u001b[0mpoints0\u001b[0m\u001b[0;34m\u001b[0m\u001b[0;34m\u001b[0m\u001b[0m\n\u001b[1;32m      5\u001b[0m \u001b[0mbatch_pred\u001b[0m \u001b[0;34m=\u001b[0m \u001b[0mpred\u001b[0m\u001b[0;34m.\u001b[0m\u001b[0mreshape\u001b[0m\u001b[0;34m(\u001b[0m\u001b[0;34m[\u001b[0m\u001b[0;36m1\u001b[0m\u001b[0;34m,\u001b[0m\u001b[0;36m8192\u001b[0m\u001b[0;34m*\u001b[0m\u001b[0;36m2\u001b[0m\u001b[0;34m,\u001b[0m\u001b[0;36m1\u001b[0m\u001b[0;34m]\u001b[0m\u001b[0;34m)\u001b[0m\u001b[0;34m\u001b[0m\u001b[0;34m\u001b[0m\u001b[0m\n",
      "\u001b[0;31mNameError\u001b[0m: name 'np' is not defined"
     ]
    }
   ],
   "source": [
    "pred = np.load('pred.npy')\n",
    "points0 = np.load('points.npy')\n",
    "batch_target = np.load('target.npy')\n",
    "batch_points = points0\n",
    "batch_pred = pred.reshape([8,16384,1])\n",
    "\n",
    "#points_og = np.load('test_dataset/test_data.npy')"
   ]
  },
  {
   "cell_type": "code",
   "execution_count": 6,
   "metadata": {},
   "outputs": [],
   "source": [
    "batch_points[:,:,0] = batch_points[:,:,0]*15 + 1187.0139032871741\n",
    "batch_points[:,:,1] = batch_points[:,:,1]*15 + 3554.7363710009868\n",
    "batch_points[:,:,2] = batch_points[:,:,2]*15 + 117.21941488949514"
   ]
  },
  {
   "cell_type": "code",
   "execution_count": 7,
   "metadata": {},
   "outputs": [],
   "source": [
    "# Choose sample in batch\n",
    "n = 0\n",
    "pts = np.array(batch_points[n,:,0:3])\n",
    "preds = batch_pred[n].squeeze(1)\n",
    "#tgts = batch_target[n].squeeze(1)\n",
    "colr = np.array(batch_points[n,:,3:6])"
   ]
  },
  {
   "cell_type": "code",
   "execution_count": 10,
   "metadata": {},
   "outputs": [],
   "source": [
    "# Process sample predictions\n",
    "xyz = open3d.utility.Vector3dVector(pts)\n",
    "pred_rgb = [np.array(labelid2color[(x-1)])/255 for x in preds]\n",
    "pcd_colors = open3d.utility.Vector3dVector(pred_rgb)\n",
    "pcd0 = open3d.geometry.PointCloud(xyz)\n",
    "pcd0.colors = pcd_colors\n",
    "\n",
    "# Process sample targets\n",
    "# tgts_rgb = [np.array(labelid2color[(x-1)])/255 for x in tgts]\n",
    "# pcd_tgts_colors = open3d.utility.Vector3dVector(tgts_rgb)\n",
    "# pcd0_tgts = open3d.geometry.PointCloud(xyz)\n",
    "# pcd0_tgts.colors = pcd_tgts_colors\n",
    "\n",
    "# # Process sample prediction vs targets difference\n",
    "# diff = tgts-preds\n",
    "# diff[diff != 0] = 1\n",
    "# diff_dict = {0:(0.7,0.7,0.7), 1:(1,0,0)}\n",
    "# diff_rgb = [diff_dict[x] for x in diff]\n",
    "# pcd_diff_colors = open3d.utility.Vector3dVector(diff_rgb)\n",
    "# pcd0_diff = open3d.geometry.PointCloud(xyz)\n",
    "# pcd0_diff.colors = pcd_diff_colors\n",
    "\n",
    "# Process model input\n",
    "# xyz_og = open3d.utility.Vector3dVector(points_og[:,0:3])\n",
    "# #og_rgb = [np.array(labelid2color[(x-1)])/255 for x in colors_og]\n",
    "# pcd_og_colors = open3d.utility.Vector3dVector(points_og[:,3:6])\n",
    "# pcd0_og = open3d.geometry.PointCloud(xyz_og)\n",
    "# pcd0_og.colors = pcd_og_colors\n",
    "\n",
    "# Process sample sampled input\n",
    "pcd_samp_colors = open3d.utility.Vector3dVector(colr)\n",
    "pcd0_samp = open3d.geometry.PointCloud(xyz)\n",
    "pcd0_samp.colors = pcd_samp_colors\n",
    "\n",
    "open3d.visualization.draw_geometries([pcd0])\n",
    "#open3d.visualization.draw_geometries([pcd0_diff])\n",
    "#open3d.visualization.draw_geometries([pcd0_tgts])\n",
    "#open3d.visualization.draw_geometries([pcd0_samp])\n",
    "#open3d.visualization.draw_geometries([pcd0_og, pcd0])"
   ]
  },
  {
   "cell_type": "code",
   "execution_count": 125,
   "metadata": {
    "collapsed": true,
    "jupyter": {
     "outputs_hidden": true
    }
   },
   "outputs": [],
   "source": [
    "pcd0.estimate_normals(search_param=open3d.geometry.KDTreeSearchParamHybrid(radius=0.5, max_nn=10))\n",
    "pcd0.orient_normals_to_align_with_direction()\n",
    "open3d.visualization.draw_geometries([pcd0],point_show_normal=True)"
   ]
  },
  {
   "cell_type": "code",
   "execution_count": 129,
   "metadata": {
    "collapsed": true,
    "jupyter": {
     "outputs_hidden": true
    }
   },
   "outputs": [],
   "source": [
    "xyz = open3d.utility.Vector3dVector(pts)\n",
    "pred_rgb = [np.array(labelid2color[(x-1)])/255 for x in preds]\n",
    "pcd_colors = open3d.utility.Vector3dVector(pred_rgb)\n",
    "pcd0 = open3d.geometry.PointCloud(xyz)\n",
    "pcd0.colors = pcd_colors"
   ]
  },
  {
   "cell_type": "code",
   "execution_count": 35,
   "metadata": {
    "collapsed": true,
    "jupyter": {
     "outputs_hidden": true
    }
   },
   "outputs": [
    {
     "data": {
      "text/plain": [
       "1161"
      ]
     },
     "execution_count": 35,
     "metadata": {},
     "output_type": "execute_result"
    }
   ],
   "source": [
    "sum(diff)"
   ]
  },
  {
   "cell_type": "code",
   "execution_count": 14,
   "metadata": {
    "collapsed": true,
    "jupyter": {
     "outputs_hidden": true
    }
   },
   "outputs": [
    {
     "data": {
      "text/plain": [
       "2102"
      ]
     },
     "execution_count": 14,
     "metadata": {},
     "output_type": "execute_result"
    }
   ],
   "source": [
    "sum(diff)"
   ]
  },
  {
   "cell_type": "markdown",
   "metadata": {},
   "source": [
    "## Random code test"
   ]
  },
  {
   "cell_type": "code",
   "execution_count": null,
   "metadata": {
    "collapsed": true,
    "jupyter": {
     "outputs_hidden": true
    }
   },
   "outputs": [],
   "source": [
    "def query_ball_point(radius, nsample, xyz, new_xyz):\n",
    "    \"\"\"\n",
    "    Input:\n",
    "        radius: local region radius\n",
    "        nsample: max sample number in local region\n",
    "        xyz: all points, [B, N, 3]\n",
    "        new_xyz: query points, [B, S, 3]\n",
    "    Return:\n",
    "        group_idx: grouped points index, [B, S, nsample]\n",
    "    \"\"\"\n",
    "    device = xyz.device\n",
    "    B, N, C = xyz.shape\n",
    "    \n",
    "    _, S, _ = new_xyz.shape\n",
    "    group_idx = torch.arange(N, dtype=torch.long).to(device).view(1, 1, N).repeat([B, S, 1])\n",
    "    sqrdists = square_distance(new_xyz, xyz)\n",
    "    group_idx[sqrdists > radius ** 2] = N\n",
    "    group_idx = group_idx.sort(dim=-1)[0][:, :, :nsample]\n",
    "    group_first = group_idx[:, :, 0].view(B, S, 1).repeat([1, 1, nsample])\n",
    "    mask = group_idx == N\n",
    "    group_idx[mask] = group_first[mask]\n",
    "    \n",
    "    \n",
    "    return group_idx"
   ]
  },
  {
   "cell_type": "markdown",
   "metadata": {},
   "source": [
    "### Test for overlapping voxels"
   ]
  },
  {
   "cell_type": "code",
   "execution_count": 4,
   "metadata": {
    "collapsed": true,
    "jupyter": {
     "outputs_hidden": true
    }
   },
   "outputs": [],
   "source": [
    "t0 = np.load('mini_dataset_vx_0_18/mini_dataset_xyzrgbl_30.npy')\n",
    "#labelid2color = {label.id:label.color for label in labels}\n",
    "v0 = open3d.utility.Vector3dVector(t0[:,0:3])\n",
    "#c0 = [np.array(labelid2color[x[-1]])/255 for x in t0]\n",
    "#v00 = open3d.utility.Vector3dVector(c0)\n",
    "pcd = open3d.geometry.PointCloud(v0)\n",
    "#pcd.colors = v00\n",
    "open3d.visualization.draw_geometries([pcd])"
   ]
  },
  {
   "cell_type": "code",
   "execution_count": 284,
   "metadata": {
    "collapsed": true,
    "jupyter": {
     "outputs_hidden": true
    }
   },
   "outputs": [],
   "source": [
    "pcd_tree = open3d.geometry.KDTreeFlann(pcd)"
   ]
  },
  {
   "cell_type": "code",
   "execution_count": 300,
   "metadata": {
    "collapsed": true,
    "jupyter": {
     "outputs_hidden": true
    }
   },
   "outputs": [],
   "source": [
    "[k, idx, _] = pcd_tree.search_radius_vector_3d(pcd.points[1500], 0.2)"
   ]
  },
  {
   "cell_type": "markdown",
   "metadata": {},
   "source": [
    "### Computing voxel_size for centroids"
   ]
  },
  {
   "cell_type": "code",
   "execution_count": 499,
   "metadata": {
    "collapsed": true,
    "jupyter": {
     "outputs_hidden": true
    }
   },
   "outputs": [
    {
     "name": "stdout",
     "output_type": "stream",
     "text": [
      "Found 44 ply files in 2013_05_28_drive_0000_sync\n",
      "Loading /Volumes/Erik's Files/Project/Datasets/KITTI-360/data_3d_semantics/2013_05_28_drive_0000_sync/static/005249_005900.ply \n",
      "geometry::PointCloud with 236010 points.\n"
     ]
    }
   ],
   "source": [
    "class opts():\n",
    "    sequence = 0\n",
    "    mode = 'semantic'\n",
    "    max_bbox = 100\n",
    "\n",
    "args = opts()\n",
    "\n",
    "v = Kitti360Viewer3D(args.sequence, False)\n",
    "pcdFile = v.annotation3DPly.pcdFileList[20]\n",
    "pcd = v.loadWindow(pcdFile, args.mode)\n",
    "\n",
    "d = 14\n",
    "t = math.radians(d)\n",
    "x = math.cos(t)\n",
    "y = math.sin(t)\n",
    "pcd.rotate(np.array([[x,-y,0],[y,x,0],[0,0,1]]), pcd.get_center())\n",
    "\n",
    "box = open3d.geometry.AxisAlignedBoundingBox.create_from_points(pcd.points)\n",
    "\n",
    "vol = open3d.geometry.OrientedBoundingBox.create_from_axis_aligned_bounding_box(box)\n",
    "vol.extent = np.array([20,20,10])\n",
    "vol.center = vol.get_center() - np.array([23.5, 30, 0])\n",
    "part = pcd.crop(vol)\n",
    "\n",
    "print(part)"
   ]
  },
  {
   "cell_type": "code",
   "execution_count": 500,
   "metadata": {
    "collapsed": true,
    "jupyter": {
     "outputs_hidden": true
    }
   },
   "outputs": [],
   "source": [
    "open3d.visualization.draw_geometries([part, mesh_frame])"
   ]
  },
  {
   "cell_type": "code",
   "execution_count": 412,
   "metadata": {
    "collapsed": true,
    "jupyter": {
     "outputs_hidden": true
    }
   },
   "outputs": [],
   "source": [
    "_, _, trace = part.voxel_down_sample_and_trace(.7, part.get_min_bound(), part_sem.get_max_bound())\n",
    "\n",
    "# Visualize the last sample scene\n",
    "#mesh_frame = open3d.geometry.TriangleMesh.create_coordinate_frame(size=10, origin=-pcd.get_center())\n",
    "#open3d.visualization.draw_geometries([pcd, mesh_frame])"
   ]
  },
  {
   "cell_type": "code",
   "execution_count": 482,
   "metadata": {
    "collapsed": true,
    "jupyter": {
     "outputs_hidden": true
    }
   },
   "outputs": [],
   "source": [
    "px = part.voxel_down_sample_and_trace(.7, part.get_min_bound(), part_sem.get_max_bound())\n",
    "\n",
    "# Visualize the last sample scene\n",
    "mesh_frame = open3d.geometry.TriangleMesh.create_coordinate_frame(size=10, origin=-pcd.get_center())\n",
    "open3d.visualization.draw_geometries([px[0], mesh_frame])"
   ]
  },
  {
   "cell_type": "code",
   "execution_count": 417,
   "metadata": {
    "collapsed": true,
    "jupyter": {
     "outputs_hidden": true
    }
   },
   "outputs": [
    {
     "data": {
      "text/plain": [
       "array([496,  81, 715, ...,  91, 382, 860])"
      ]
     },
     "execution_count": 417,
     "metadata": {},
     "output_type": "execute_result"
    }
   ],
   "source": [
    "np.random.randint(0,len(trace), 1024)"
   ]
  },
  {
   "cell_type": "code",
   "execution_count": 464,
   "metadata": {
    "collapsed": true,
    "jupyter": {
     "outputs_hidden": true
    }
   },
   "outputs": [],
   "source": [
    "rand_idx = np.random.randint(0,len(trace), 1024)"
   ]
  },
  {
   "cell_type": "code",
   "execution_count": 465,
   "metadata": {
    "collapsed": true,
    "jupyter": {
     "outputs_hidden": true
    }
   },
   "outputs": [],
   "source": [
    "tl=[trace[i] for i in rand_idx]"
   ]
  },
  {
   "cell_type": "code",
   "execution_count": null,
   "metadata": {
    "collapsed": true,
    "jupyter": {
     "outputs_hidden": true
    }
   },
   "outputs": [],
   "source": []
  },
  {
   "cell_type": "code",
   "execution_count": 544,
   "metadata": {
    "collapsed": true,
    "jupyter": {
     "outputs_hidden": true
    }
   },
   "outputs": [],
   "source": [
    "#pcd = op3.geometry.PointCloud( op3.utility.Vector3dVector( points_xyz[i] ) )\n",
    "pcd_tree = open3d.geometry.KDTreeFlann(pcd)\n",
    "\n",
    "[k, idx, z] = pcd_tree.search_radius_vector_3d([1310, 3779,  114] , 2)\n",
    "idx = np.asarray(idx)"
   ]
  },
  {
   "cell_type": "code",
   "execution_count": 548,
   "metadata": {
    "collapsed": true,
    "jupyter": {
     "outputs_hidden": true
    }
   },
   "outputs": [
    {
     "data": {
      "text/plain": [
       "(327,)"
      ]
     },
     "execution_count": 548,
     "metadata": {},
     "output_type": "execute_result"
    }
   ],
   "source": [
    "np.asarray(z).shape"
   ]
  },
  {
   "cell_type": "code",
   "execution_count": 531,
   "metadata": {
    "collapsed": true,
    "jupyter": {
     "outputs_hidden": true
    }
   },
   "outputs": [
    {
     "data": {
      "text/plain": [
       "116.33988265617411"
      ]
     },
     "execution_count": 531,
     "metadata": {},
     "output_type": "execute_result"
    }
   ],
   "source": [
    "t[2]"
   ]
  },
  {
   "cell_type": "code",
   "execution_count": 552,
   "metadata": {
    "collapsed": true,
    "jupyter": {
     "outputs_hidden": true
    }
   },
   "outputs": [],
   "source": [
    "from __future__ import print_function\n",
    "import torch\n",
    "import torch.nn as nn\n",
    "import torch.nn.parallel\n",
    "import torch.utils.data\n",
    "import torch.nn.functional as F\n",
    "from torch.utils.data import Dataset\n",
    "\n",
    "import numpy as np\n",
    "import matplotlib.pyplot as plt\n",
    "import os, sys, importlib, shutil\n",
    "import time, random, logging, datetime\n",
    "from pathlib import Path\n",
    "from tqdm import notebook\n",
    "import glob\n",
    "import open3d as op3\n",
    "from IPython.display import clear_output"
   ]
  },
  {
   "cell_type": "code",
   "execution_count": 553,
   "metadata": {
    "collapsed": true,
    "jupyter": {
     "outputs_hidden": true
    }
   },
   "outputs": [],
   "source": [
    "class KITTI360Dataset(Dataset):\n",
    "    def __init__(self, data_root='test/', num_points=4096,\n",
    "                 voxel_size=0.1, num_classes=46, transform=None):\n",
    "        super().__init__()\n",
    "        self.num_points = num_points\n",
    "        self.voxel_size = voxel_size\n",
    "        self.num_classes = num_classes\n",
    "        self.transform = transform\n",
    "        frames = sorted(os.listdir(data_root))\n",
    "        frames = [frame for frame in frames]\n",
    "                \n",
    "        self.frame_points, self.frame_labels = [], []\n",
    "        self.frame_coord_min, self.frame_coord_max = [], []\n",
    "        num_point_all = []\n",
    "        \n",
    "        for frame_name in notebook.tqdm(frames, total=len(frames)):#, position=0, leave=True):\n",
    "            frame_path = os.path.join(data_root, frame_name)\n",
    "            frame_data = np.load(frame_path) # xyzrgblll, N*9\n",
    "\n",
    "            # read data N * xyzrgbl\n",
    "            points, labels = frame_data[:, 0:6], frame_data[:, 6:7]  # xyzrgb, N*6; l, N\n",
    "            labels = labels + np.ones_like(labels)\n",
    "            coord_min, coord_max = np.amin(points, axis=0)[:3], np.amax(points, axis=0)[:3]\n",
    "            self.frame_points.append(points), self.frame_labels.append(labels)\n",
    "            self.frame_coord_min.append(coord_min), self.frame_coord_max.append(coord_max)\n",
    "            num_point_all.append(labels.shape[0])\n",
    "\n",
    "        self.frame_idxs = np.arange(len(frames))\n",
    "        print(\"Total of {} frames in dataset.\".format(len(frames)))\n",
    "\n",
    "    def __getitem__(self, idx):\n",
    "        frame_time = self.frame_idxs[idx]\n",
    "        points = self.frame_points[frame_time]   # N * 6\n",
    "        labels = self.frame_labels[frame_time]   # N\n",
    "\n",
    "        frame_pcd = op3.geometry.PointCloud(op3.utility.Vector3dVector(points[:,0:3]))\n",
    "        center = frame_pcd.get_center()\n",
    "\n",
    "        selected_point_idxs = np.random.choice(np.arange(points.shape[0]), self.num_points, replace=False)\n",
    "\n",
    "        # normalize\n",
    "        # selected_points = points[selected_point_idxs, :]  # num_points * 6\n",
    "        # selected_labels = labels[selected_point_idxs]\n",
    "        selected_points = points[selected_point_idxs, :]  # num_point * 6\n",
    "        current_points = np.zeros((self.num_points, 6))  # num_point * 6\n",
    "        current_points[:, 0] = selected_points[:, 0] - center[0]\n",
    "        current_points[:, 1] = selected_points[:, 1] - center[1]\n",
    "        current_points[:, 2] = selected_points[:, 2] - center[2]\n",
    "        current_points[:, 0] = current_points[:, 0] / (self.frame_coord_max[frame_time][0] - self.frame_coord_min[frame_time][0])\n",
    "        current_points[:, 1] = current_points[:, 1] / (self.frame_coord_max[frame_time][1] - self.frame_coord_min[frame_time][1])\n",
    "        current_points[:, 2] = current_points[:, 2] / (self.frame_coord_max[frame_time][2] - self.frame_coord_min[frame_time][2])\n",
    "        current_points[:, 3:6] = selected_points[:, 3:6]\n",
    "        current_labels = labels[selected_point_idxs]\n",
    "        \n",
    "        #if self.transform is not None:\n",
    "        #     selected_points, selected_labels = self.transform(selected_points, selected_labels)\n",
    "        if self.transform is not None:\n",
    "             current_points, current_labels = self.transform(current_points, current_labels)        \n",
    "        return current_points, current_labels\n",
    "        #return selected_points, selected_labels\n",
    "\n",
    "    def __len__(self):\n",
    "        return len(self.frame_idxs)"
   ]
  },
  {
   "cell_type": "code",
   "execution_count": 7,
   "metadata": {
    "collapsed": true,
    "jupyter": {
     "outputs_hidden": true
    }
   },
   "outputs": [
    {
     "ename": "NameError",
     "evalue": "name 'KITTI360Dataset' is not defined",
     "output_type": "error",
     "traceback": [
      "\u001b[0;31m---------------------------------------------------------------------------\u001b[0m",
      "\u001b[0;31mNameError\u001b[0m                                 Traceback (most recent call last)",
      "\u001b[0;32m<ipython-input-7-7b40866de8fd>\u001b[0m in \u001b[0;36m<module>\u001b[0;34m\u001b[0m\n\u001b[1;32m      4\u001b[0m \u001b[0mBATCH_SIZE\u001b[0m \u001b[0;34m=\u001b[0m \u001b[0;36m4\u001b[0m\u001b[0;34m\u001b[0m\u001b[0;34m\u001b[0m\u001b[0m\n\u001b[1;32m      5\u001b[0m \u001b[0;34m\u001b[0m\u001b[0m\n\u001b[0;32m----> 6\u001b[0;31m \u001b[0mTRAIN_DATASET\u001b[0m \u001b[0;34m=\u001b[0m \u001b[0mKITTI360Dataset\u001b[0m\u001b[0;34m(\u001b[0m\u001b[0mdata_root\u001b[0m\u001b[0;34m=\u001b[0m\u001b[0mroot\u001b[0m\u001b[0;34m,\u001b[0m \u001b[0mnum_points\u001b[0m\u001b[0;34m=\u001b[0m\u001b[0mNUM_POINT\u001b[0m\u001b[0;34m,\u001b[0m \u001b[0mtransform\u001b[0m\u001b[0;34m=\u001b[0m\u001b[0;32mNone\u001b[0m\u001b[0;34m)\u001b[0m\u001b[0;34m\u001b[0m\u001b[0;34m\u001b[0m\u001b[0m\n\u001b[0m\u001b[1;32m      7\u001b[0m \u001b[0mtrainDataLoader\u001b[0m \u001b[0;34m=\u001b[0m \u001b[0mtorch\u001b[0m\u001b[0;34m.\u001b[0m\u001b[0mutils\u001b[0m\u001b[0;34m.\u001b[0m\u001b[0mdata\u001b[0m\u001b[0;34m.\u001b[0m\u001b[0mDataLoader\u001b[0m\u001b[0;34m(\u001b[0m\u001b[0mTRAIN_DATASET\u001b[0m\u001b[0;34m,\u001b[0m \u001b[0mbatch_size\u001b[0m\u001b[0;34m=\u001b[0m\u001b[0mBATCH_SIZE\u001b[0m\u001b[0;34m,\u001b[0m \u001b[0mshuffle\u001b[0m\u001b[0;34m=\u001b[0m\u001b[0;32mFalse\u001b[0m\u001b[0;34m,\u001b[0m \u001b[0mnum_workers\u001b[0m\u001b[0;34m=\u001b[0m\u001b[0;36m0\u001b[0m\u001b[0;34m,\u001b[0m \u001b[0mpin_memory\u001b[0m\u001b[0;34m=\u001b[0m\u001b[0;32mTrue\u001b[0m\u001b[0;34m)\u001b[0m\u001b[0;31m#, worker_init_fn = lambda x: np.random.seed(x+int(time.time())))\u001b[0m\u001b[0;34m\u001b[0m\u001b[0;34m\u001b[0m\u001b[0m\n",
      "\u001b[0;31mNameError\u001b[0m: name 'KITTI360Dataset' is not defined"
     ]
    }
   ],
   "source": [
    "root = 'test/'\n",
    "NUM_CLASSES = 46\n",
    "NUM_POINT = 8192 #32768 #49152 #65536 #8192 #16384 #4096\n",
    "BATCH_SIZE = 4\n",
    "\n",
    "TRAIN_DATASET = KITTI360Dataset(data_root=root, num_points=NUM_POINT, transform=None)\n",
    "trainDataLoader = torch.utils.data.DataLoader(TRAIN_DATASET, batch_size=BATCH_SIZE, shuffle=False, num_workers=0, pin_memory=True)#, worker_init_fn = lambda x: np.random.seed(x+int(time.time())))"
   ]
  },
  {
   "cell_type": "code",
   "execution_count": 567,
   "metadata": {
    "collapsed": true,
    "jupyter": {
     "outputs_hidden": true
    }
   },
   "outputs": [],
   "source": [
    "pts = next(iter(TRAIN_DATASET))[0]"
   ]
  },
  {
   "cell_type": "code",
   "execution_count": 568,
   "metadata": {
    "collapsed": true,
    "jupyter": {
     "outputs_hidden": true
    }
   },
   "outputs": [],
   "source": [
    "pcd = open3d.geometry.PointCloud( open3d.utility.Vector3dVector(pts[:,0:3]) )"
   ]
  },
  {
   "cell_type": "code",
   "execution_count": 564,
   "metadata": {
    "collapsed": true,
    "jupyter": {
     "outputs_hidden": true
    }
   },
   "outputs": [],
   "source": [
    "open3d.visualization.draw_geometries([pcd])"
   ]
  },
  {
   "cell_type": "code",
   "execution_count": 573,
   "metadata": {
    "collapsed": true,
    "jupyter": {
     "outputs_hidden": true
    }
   },
   "outputs": [],
   "source": [
    "pcd2 = pcd.voxel_down_sample(0.01)\n",
    "open3d.visualization.draw_geometries([pcd2])"
   ]
  },
  {
   "cell_type": "code",
   "execution_count": 570,
   "metadata": {
    "collapsed": true,
    "jupyter": {
     "outputs_hidden": true
    }
   },
   "outputs": [],
   "source": [
    "pcd3 = pcd.voxel_down_sample(0.025)\n",
    "open3d.visualization.draw_geometries([pcd3])"
   ]
  },
  {
   "cell_type": "code",
   "execution_count": 571,
   "metadata": {
    "collapsed": true,
    "jupyter": {
     "outputs_hidden": true
    }
   },
   "outputs": [],
   "source": [
    "pcd4 = pcd3.voxel_down_sample(0.1)\n",
    "open3d.visualization.draw_geometries([pcd4])"
   ]
  },
  {
   "cell_type": "code",
   "execution_count": 37,
   "metadata": {
    "collapsed": true,
    "jupyter": {
     "outputs_hidden": true
    }
   },
   "outputs": [
    {
     "data": {
      "text/plain": [
       "torch.Size([2, 3])"
      ]
     },
     "execution_count": 37,
     "metadata": {},
     "output_type": "execute_result"
    }
   ],
   "source": [
    "x = torch.tensor([[1,2,3],[-1,1,0]])\n",
    "y = torch.tensor([2,5,1,5,1,2])\n",
    "x.shape"
   ]
  },
  {
   "cell_type": "code",
   "execution_count": 38,
   "metadata": {
    "collapsed": true,
    "jupyter": {
     "outputs_hidden": true
    }
   },
   "outputs": [
    {
     "data": {
      "text/plain": [
       "torch.return_types.sort(\n",
       "values=tensor([[ 1,  2,  3],\n",
       "        [-1,  0,  1]]),\n",
       "indices=tensor([[0, 1, 2],\n",
       "        [0, 2, 1]]))"
      ]
     },
     "execution_count": 38,
     "metadata": {},
     "output_type": "execute_result"
    }
   ],
   "source": [
    "x.sort(dim=-1)"
   ]
  },
  {
   "cell_type": "code",
   "execution_count": 701,
   "metadata": {
    "collapsed": true,
    "jupyter": {
     "outputs_hidden": true
    }
   },
   "outputs": [
    {
     "data": {
      "text/plain": [
       "array([2, 1])"
      ]
     },
     "execution_count": 701,
     "metadata": {},
     "output_type": "execute_result"
    }
   ],
   "source": [
    "y[t]"
   ]
  },
  {
   "cell_type": "code",
   "execution_count": 85,
   "metadata": {
    "collapsed": true,
    "jupyter": {
     "outputs_hidden": true
    }
   },
   "outputs": [],
   "source": [
    "x = [1,2,3]\n",
    "y = [4,5,6]"
   ]
  },
  {
   "cell_type": "code",
   "execution_count": 12,
   "metadata": {
    "collapsed": true,
    "jupyter": {
     "outputs_hidden": true
    }
   },
   "outputs": [
    {
     "ename": "AttributeError",
     "evalue": "'Tensor' object has no attribute 'extend'",
     "output_type": "error",
     "traceback": [
      "\u001b[0;31m---------------------------------------------------------------------------\u001b[0m",
      "\u001b[0;31mAttributeError\u001b[0m                            Traceback (most recent call last)",
      "\u001b[0;32m<ipython-input-12-9a4524f86d08>\u001b[0m in \u001b[0;36m<module>\u001b[0;34m\u001b[0m\n\u001b[0;32m----> 1\u001b[0;31m \u001b[0mx\u001b[0m\u001b[0;34m.\u001b[0m\u001b[0mextend\u001b[0m\u001b[0;34m(\u001b[0m\u001b[0my\u001b[0m\u001b[0;34m)\u001b[0m\u001b[0;34m\u001b[0m\u001b[0;34m\u001b[0m\u001b[0m\n\u001b[0m",
      "\u001b[0;31mAttributeError\u001b[0m: 'Tensor' object has no attribute 'extend'"
     ]
    }
   ],
   "source": [
    "x.extend(y)"
   ]
  },
  {
   "cell_type": "code",
   "execution_count": 8,
   "metadata": {
    "collapsed": true,
    "jupyter": {
     "outputs_hidden": true
    }
   },
   "outputs": [
    {
     "name": "stdout",
     "output_type": "stream",
     "text": [
      "torch.Size([2, 4, 3])\n"
     ]
    },
    {
     "data": {
      "text/plain": [
       "tensor([[[1, 2, 3],\n",
       "         [2, 3, 4],\n",
       "         [5, 6, 7],\n",
       "         [8, 1, 2]],\n",
       "\n",
       "        [[1, 2, 3],\n",
       "         [2, 3, 4],\n",
       "         [5, 6, 7],\n",
       "         [8, 1, 2]]])"
      ]
     },
     "execution_count": 8,
     "metadata": {},
     "output_type": "execute_result"
    }
   ],
   "source": [
    "import torch\n",
    "#x = torch.tensor([[1,2,3],[2,3,4],[5,6,7],[8,1,2]])\n",
    "x = torch.tensor([[[1,2,3],[2,3,4],[5,6,7],[8,1,2]], [[1,2,3],[2,3,4],[5,6,7],[8,1,2]]])\n",
    "print(x.shape)\n",
    "x"
   ]
  },
  {
   "cell_type": "code",
   "execution_count": 13,
   "metadata": {
    "collapsed": true,
    "jupyter": {
     "outputs_hidden": true
    }
   },
   "outputs": [
    {
     "name": "stdout",
     "output_type": "stream",
     "text": [
      "torch.Size([8, 3])\n"
     ]
    },
    {
     "data": {
      "text/plain": [
       "tensor([[1, 2, 3],\n",
       "        [2, 3, 4],\n",
       "        [5, 6, 7],\n",
       "        [8, 1, 2],\n",
       "        [1, 2, 3],\n",
       "        [2, 3, 4],\n",
       "        [5, 6, 7],\n",
       "        [8, 1, 2]])"
      ]
     },
     "execution_count": 13,
     "metadata": {},
     "output_type": "execute_result"
    }
   ],
   "source": [
    "x = x.contiguous().view(-1, 3)\n",
    "print(x.shape)\n",
    "x"
   ]
  },
  {
   "cell_type": "code",
   "execution_count": 10,
   "metadata": {
    "collapsed": true,
    "jupyter": {
     "outputs_hidden": true
    }
   },
   "outputs": [
    {
     "data": {
      "text/plain": [
       "array([2, 2, 2, 0, 2, 2, 2, 0])"
      ]
     },
     "execution_count": 10,
     "metadata": {},
     "output_type": "execute_result"
    }
   ],
   "source": [
    "x.cpu().data.max(-1)[1].numpy()"
   ]
  },
  {
   "cell_type": "code",
   "execution_count": 11,
   "metadata": {
    "collapsed": true,
    "jupyter": {
     "outputs_hidden": true
    }
   },
   "outputs": [
    {
     "data": {
      "text/plain": [
       "array([2, 2, 2, 0, 2, 2, 2, 0])"
      ]
     },
     "execution_count": 11,
     "metadata": {},
     "output_type": "execute_result"
    }
   ],
   "source": [
    "x.cpu().data.max(-1)[1].numpy()"
   ]
  },
  {
   "cell_type": "markdown",
   "metadata": {},
   "source": [
    "# Combine Scene"
   ]
  },
  {
   "cell_type": "code",
   "execution_count": 8,
   "metadata": {},
   "outputs": [
    {
     "name": "stdout",
     "output_type": "stream",
     "text": [
      "Found 44 ply files in 2013_05_28_drive_0000_sync\n",
      "Loading /Volumes/Erik's Files/Project/Datasets/KITTI-360/data_3d_semantics/2013_05_28_drive_0000_sync/static/000002_000385.ply \n"
     ]
    }
   ],
   "source": [
    "class opts():\n",
    "    sequence = 0\n",
    "    mode = 'semantic'\n",
    "    max_bbox = 100\n",
    "\n",
    "args = opts()\n",
    "\n",
    "v = Kitti360Viewer3D(args.sequence, False)\n",
    "\n",
    "pcdFile = v.annotation3DPly.pcdFileList[0]\n",
    "pcds = v.loadWindow(pcdFile, args.mode)\n",
    "\n",
    "# for i in range(1, 2):#44\n",
    "#     pcdFile = v.annotation3DPly.pcdFileList[i]\n",
    "#     pcds = pcds + v.loadWindow(pcdFile, args.mode)\n",
    "\n",
    "# # Visualize the last sample scene\n",
    "# open3d.visualization.draw_geometries([pcds])"
   ]
  },
  {
   "cell_type": "code",
   "execution_count": 10,
   "metadata": {},
   "outputs": [],
   "source": [
    "open3d.visualization.draw_geometries([pcds])"
   ]
  },
  {
   "cell_type": "code",
   "execution_count": 15,
   "metadata": {},
   "outputs": [],
   "source": [
    "p = pcds.voxel_down_sample(5)\n",
    "open3d.visualization.draw_geometries([p])"
   ]
  },
  {
   "cell_type": "code",
   "execution_count": null,
   "metadata": {},
   "outputs": [],
   "source": [
    "np.save('testing', np.asarray(pcds.points))\n",
    "np.save('testingcols', np.asarray(pcds.colors))"
   ]
  },
  {
   "cell_type": "code",
   "execution_count": 18,
   "metadata": {},
   "outputs": [],
   "source": [
    "import open3d\n",
    "import numpy as np\n",
    "import math\n",
    "pts = np.load('testing.npy')\n",
    "cols = np.load('testingcols.npy')\n",
    "pcds = open3d.geometry.PointCloud( open3d.utility.Vector3dVector(pts))\n",
    "pcds.colors = open3d.utility.Vector3dVector(cols)"
   ]
  },
  {
   "cell_type": "markdown",
   "metadata": {},
   "source": [
    "# Get Camera View"
   ]
  },
  {
   "cell_type": "code",
   "execution_count": 20,
   "metadata": {},
   "outputs": [],
   "source": [
    "cam2world = np.loadtxt('cam0_to_world.txt')"
   ]
  },
  {
   "cell_type": "code",
   "execution_count": 23,
   "metadata": {},
   "outputs": [
    {
     "name": "stdout",
     "output_type": "stream",
     "text": [
      "[ 9.124040e-01 -3.971888e-02  4.073610e-01  9.184893e+02 -4.092920e-01\n",
      " -8.683458e-02  9.082620e-01  3.710181e+03 -7.020000e-04 -9.954309e-01\n",
      " -9.548400e-02  1.160218e+02  0.000000e+00  0.000000e+00  0.000000e+00\n",
      "  1.000000e+00]\n"
     ]
    }
   ],
   "source": [
    "n=160\n",
    "d = cam2world[n,1:]\n",
    "#print(d)\n",
    "#d = d.reshape(4,4)\n",
    "print(d)\n",
    "#d.shape"
   ]
  },
  {
   "cell_type": "code",
   "execution_count": 4,
   "metadata": {},
   "outputs": [],
   "source": [
    "# build visualization\n",
    "vis = open3d.visualization.Visualizer()\n",
    "vis.create_window()\n",
    "vis.add_geometry(pcds)  # your point cloud goes here\n",
    "\n",
    "vis = open3d.visualization.VisualizerWithKeyCallback()\n",
    "vis.create_window()\n",
    "view_ctl = vis.get_view_control()\n",
    "\n",
    "vis.add_geometry(pcds)\n",
    "cam = view_ctl.convert_to_pinhole_camera_parameters()\n",
    "cam.extrinsic = np.linalg.inv(d) # where T is your matrix\n",
    "view_ctl.convert_from_pinhole_camera_parameters(cam)\n",
    "vis.run()\n",
    "vis.destroy_window()"
   ]
  },
  {
   "cell_type": "code",
   "execution_count": 6,
   "metadata": {},
   "outputs": [
    {
     "name": "stdout",
     "output_type": "stream",
     "text": [
      "[[-4.17180158e-01 -9.08284229e-01 -3.12814598e-02  3.74213318e+03]\n",
      " [-8.25531786e-02  7.21491188e-02 -9.93971322e-01 -7.92802821e+01]\n",
      " [ 9.05066909e-01 -4.12083472e-01 -1.05081983e-01  7.40056610e+02]\n",
      " [ 0.00000000e+00  0.00000000e+00  0.00000000e+00  1.00000000e+00]]\n"
     ]
    }
   ],
   "source": [
    "print(np.linalg.inv(d))"
   ]
  },
  {
   "cell_type": "code",
   "execution_count": 13,
   "metadata": {},
   "outputs": [],
   "source": [
    "box = open3d.geometry.AxisAlignedBoundingBox.create_from_points(pcds.points)\n",
    "\n",
    "vol = open3d.geometry.OrientedBoundingBox.create_from_axis_aligned_bounding_box(box)\n",
    "vol.extent = np.array([30,30,30])\n",
    "vol.center = np.array([d[3],d[7],d[11]])\n",
    "part = pcds.crop(vol)\n",
    "open3d.visualization.draw_geometries([part])"
   ]
  },
  {
   "cell_type": "code",
   "execution_count": 24,
   "metadata": {},
   "outputs": [],
   "source": [
    "box = open3d.geometry.AxisAlignedBoundingBox.create_from_points(pcds.points)\n",
    "\n",
    "vol = open3d.geometry.OrientedBoundingBox.create_from_axis_aligned_bounding_box(box)\n",
    "vol.extent = np.array([30,30,30])\n",
    "vol.center = np.array([d[3],d[7],d[11]])\n",
    "\n",
    "# angle = 14\n",
    "# t = math.radians(angle)\n",
    "# x = math.cos(t)\n",
    "# y = math.sin(t)\n",
    "# vol.rotate(np.array([[x,-y,0],[y,x,0],[0,0,1]]), vol.center)#pcd.get_center())\n",
    "c = np.array(vol.center)\n",
    "dd = d.reshape(4,4)\n",
    "vol.rotate(dd[:3,:3], vol.center)\n",
    "\n",
    "part = pcds.crop(vol)\n",
    "#part.rotate(np.linalg.inv(dd)[:3,:3], vol.center)\n",
    "\n",
    "r = np.linalg.inv(dd)\n",
    "#part.rotate(-r[:3,:3], [0,0,0])\n",
    "part.rotate(-r[:3,:3], r[:3,3])\n",
    "open3d.visualization.draw_geometries([part])"
   ]
  },
  {
   "cell_type": "code",
   "execution_count": 15,
   "metadata": {},
   "outputs": [
    {
     "name": "stdout",
     "output_type": "stream",
     "text": [
      "['f_1', 'f_2', 'f_3', 'f_11', 'f_12']\n"
     ]
    }
   ],
   "source": [
    "#import natsort\n",
    "lst = ['f_1','f_2','f_3','f_11','f_12']\n",
    "lst2 = ['1_1','1_2','2_3','1_11','2_12']\n",
    "print(lst)\n",
    "#print(natsort.natsorted(lst))"
   ]
  },
  {
   "cell_type": "code",
   "execution_count": 9,
   "metadata": {},
   "outputs": [],
   "source": [
    "lst = np.array(lst)"
   ]
  },
  {
   "cell_type": "code",
   "execution_count": 16,
   "metadata": {},
   "outputs": [
    {
     "data": {
      "text/plain": [
       "['1_1', '1_11', '1_2', '2_12', '2_3']"
      ]
     },
     "execution_count": 16,
     "metadata": {},
     "output_type": "execute_result"
    }
   ],
   "source": [
    "lst2.sort()\n",
    "lst2"
   ]
  },
  {
   "cell_type": "code",
   "execution_count": 12,
   "metadata": {},
   "outputs": [
    {
     "data": {
      "text/plain": [
       "['f_1', 'f_11', 'f_12', 'f_2', 'f_3']"
      ]
     },
     "execution_count": 12,
     "metadata": {},
     "output_type": "execute_result"
    }
   ],
   "source": [
    "sorted(lst)"
   ]
  },
  {
   "cell_type": "code",
   "execution_count": null,
   "metadata": {},
   "outputs": [],
   "source": []
  }
 ],
 "metadata": {
  "kernelspec": {
   "display_name": "Python 3",
   "language": "python",
   "name": "python3"
  },
  "language_info": {
   "codemirror_mode": {
    "name": "ipython",
    "version": 3
   },
   "file_extension": ".py",
   "mimetype": "text/x-python",
   "name": "python",
   "nbconvert_exporter": "python",
   "pygments_lexer": "ipython3",
   "version": "3.8.5"
  }
 },
 "nbformat": 4,
 "nbformat_minor": 4
}
